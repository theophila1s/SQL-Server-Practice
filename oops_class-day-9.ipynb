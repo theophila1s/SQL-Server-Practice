{
 "cells": [
  {
   "cell_type": "code",
   "execution_count": 1,
   "id": "43db601c",
   "metadata": {},
   "outputs": [
    {
     "name": "stdout",
     "output_type": "stream",
     "text": [
      "1123 for the student Theo has been added\n",
      "1124 for the student Diya has been added\n",
      "1125 for the student Zoya has been added\n",
      "1126 for the student Vidhya has been added\n",
      "{'studentname': 'Diya', 'marks': 67}\n",
      "[{'rollno': 1123, 'studentname': 'Theo', 'marks': 89}, {'rollno': 1125, 'studentname': 'Zoya', 'marks': 78}, {'rollno': 1126, 'studentname': 'Vidhya', 'marks': 95}]\n",
      "{'rollno': 1123, 'studentname': 'Theo', 'marks': 89}\n",
      "{'rollno': 1125, 'studentname': 'Zoya', 'marks': 78}\n",
      "{'rollno': 1126, 'studentname': 'Vidhya', 'marks': 95}\n"
     ]
    }
   ],
   "source": [
    "#class - StudentManager\n",
    "#method - addstudent,\n",
    "#objects - self,rollno etc\n",
    "class StudentManager:\n",
    "    def __init__(self):\n",
    "        self.students = {}\n",
    "    def addStudent(self,rollno,studentname,marks):\n",
    "        if rollno in self.students:\n",
    "            print(f\"{rollno} already exixts\")\n",
    "        else:\n",
    "            self.students[rollno] = {\"studentname\":studentname, \"marks\": marks}\n",
    "            print(f\"{rollno} for the student {studentname} has been added\")\n",
    "    def getstudent(self,rollno):\n",
    "        if rollno in self.students:\n",
    "            return self.students[rollno]\n",
    "        else:\n",
    "            return f\"No student with rollno {rollno}\"\n",
    "    def gettopstudents(self,criteria):\n",
    "        topstudents = [\n",
    "            {\"rollno\" : rollno, \"studentname\":data[\"studentname\"], \"marks\":data[\"marks\"]}\n",
    "            for rollno,data in self.students.items()\n",
    "            if data[\"marks\"] > criteria\n",
    "        ]\n",
    "        return topstudents\n",
    "        \n",
    "result  = StudentManager()\n",
    "students_data = [\n",
    "    {\"rollno\" :1123, \"studentname\":\"Theo\",\"marks\":89},\n",
    "    {\"rollno\":1124, \"studentname\":\"Diya\", \"marks\":67},\n",
    "    {\"rollno\":1125,\"studentname\":\"Zoya\",\"marks\":78},\n",
    "    {\"rollno\":1126,\"studentname\":\"Vidhya\",\"marks\":95}   \n",
    "]\n",
    "for student in students_data:\n",
    "    result.addStudent(student[\"rollno\"],student[\"studentname\"],student[\"marks\"])\n",
    "print(result.getstudent(1124))\n",
    "top_students = result.gettopstudents(76)\n",
    "print(top_students)\n",
    "for student in top_students:\n",
    "    print(student)\n",
    "    "
   ]
  },
  {
   "cell_type": "code",
   "execution_count": null,
   "id": "d0adf4a3",
   "metadata": {},
   "outputs": [],
   "source": []
  }
 ],
 "metadata": {
  "kernelspec": {
   "display_name": "Python (tf-env)",
   "language": "python",
   "name": "tf-env"
  },
  "language_info": {
   "codemirror_mode": {
    "name": "ipython",
    "version": 3
   },
   "file_extension": ".py",
   "mimetype": "text/x-python",
   "name": "python",
   "nbconvert_exporter": "python",
   "pygments_lexer": "ipython3",
   "version": "3.9.15"
  }
 },
 "nbformat": 4,
 "nbformat_minor": 5
}
