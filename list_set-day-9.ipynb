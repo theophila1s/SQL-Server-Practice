{
 "cells": [
  {
   "cell_type": "code",
   "execution_count": 2,
   "id": "4a9558a5",
   "metadata": {},
   "outputs": [
    {
     "name": "stdout",
     "output_type": "stream",
     "text": [
      "start\n",
      "end\n"
     ]
    }
   ],
   "source": [
    "#time function\n",
    "\n",
    "import time\n",
    "print(\"start\")\n",
    "time.sleep(2)\n",
    "print(\"end\")"
   ]
  },
  {
   "cell_type": "code",
   "execution_count": 3,
   "id": "3d42b3ff",
   "metadata": {},
   "outputs": [
    {
     "name": "stdout",
     "output_type": "stream",
     "text": [
      "2021-06-17 04:23:22\n"
     ]
    }
   ],
   "source": [
    "from datetime import datetime\n",
    "timestamp = 1623884002\n",
    "dt = datetime.fromtimestamp(timestamp)\n",
    "print(dt)"
   ]
  },
  {
   "cell_type": "code",
   "execution_count": 4,
   "id": "2b901c3a",
   "metadata": {},
   "outputs": [
    {
     "name": "stdout",
     "output_type": "stream",
     "text": [
      "hi hello\n"
     ]
    }
   ],
   "source": [
    "def func1():\n",
    "    print(\"hi hello\")\n",
    "func1()"
   ]
  },
  {
   "cell_type": "code",
   "execution_count": 5,
   "id": "6e43547f",
   "metadata": {},
   "outputs": [
    {
     "name": "stdout",
     "output_type": "stream",
     "text": [
      "hello theophila\n"
     ]
    }
   ],
   "source": [
    "def func2(name):\n",
    "    print(\"hello\", name)\n",
    "func2(\"theophila\")"
   ]
  },
  {
   "cell_type": "code",
   "execution_count": 6,
   "id": "09087be3",
   "metadata": {},
   "outputs": [
    {
     "name": "stdout",
     "output_type": "stream",
     "text": [
      "7\n"
     ]
    }
   ],
   "source": [
    "def add(a,b):\n",
    "    return a+b\n",
    "res = add(3,4)\n",
    "print(res)"
   ]
  },
  {
   "cell_type": "code",
   "execution_count": 7,
   "id": "fc802c36",
   "metadata": {},
   "outputs": [
    {
     "name": "stdout",
     "output_type": "stream",
     "text": [
      "10\n"
     ]
    }
   ],
   "source": [
    "def sub(a,b):\n",
    "    return a-b \n",
    "res = sub(12,2)\n",
    "print(res)"
   ]
  },
  {
   "cell_type": "code",
   "execution_count": 8,
   "id": "1bb5cffc",
   "metadata": {},
   "outputs": [
    {
     "name": "stdout",
     "output_type": "stream",
     "text": [
      "30\n"
     ]
    }
   ],
   "source": [
    "def multiply(a,b):\n",
    "    return a*b\n",
    "res = multiply(10,3)\n",
    "print(res)"
   ]
  },
  {
   "cell_type": "code",
   "execution_count": 9,
   "id": "22300e34",
   "metadata": {},
   "outputs": [
    {
     "name": "stdout",
     "output_type": "stream",
     "text": [
      "not possible\n",
      "None\n"
     ]
    }
   ],
   "source": [
    "def divide(a,b):\n",
    "    if b!=0:\n",
    "        return a/b \n",
    "    else:\n",
    "        print(\"not possible\")\n",
    "result = divide(15,0)\n",
    "print(result)"
   ]
  },
  {
   "cell_type": "code",
   "execution_count": 10,
   "id": "16cbd095",
   "metadata": {},
   "outputs": [
    {
     "name": "stdout",
     "output_type": "stream",
     "text": [
      "1 bob\n"
     ]
    }
   ],
   "source": [
    "def emp_details(emp_id,empname):\n",
    "    print(emp_id,empname)\n",
    "emp_details(emp_id=1,empname=\"bob\")"
   ]
  },
  {
   "cell_type": "code",
   "execution_count": 11,
   "id": "87a5e03e",
   "metadata": {},
   "outputs": [
    {
     "name": "stdout",
     "output_type": "stream",
     "text": [
      "12\n"
     ]
    }
   ],
   "source": [
    "z = lambda x:x*2\n",
    "print(z(6))"
   ]
  },
  {
   "cell_type": "code",
   "execution_count": 12,
   "id": "3cccf096",
   "metadata": {},
   "outputs": [
    {
     "name": "stdout",
     "output_type": "stream",
     "text": [
      "5\n"
     ]
    }
   ],
   "source": [
    "add = lambda a,b : a+b \n",
    "print(add(3,2))"
   ]
  },
  {
   "cell_type": "code",
   "execution_count": null,
   "id": "5cd95e9c",
   "metadata": {},
   "outputs": [],
   "source": []
  }
 ],
 "metadata": {
  "kernelspec": {
   "display_name": "Python (tf-env)",
   "language": "python",
   "name": "tf-env"
  },
  "language_info": {
   "codemirror_mode": {
    "name": "ipython",
    "version": 3
   },
   "file_extension": ".py",
   "mimetype": "text/x-python",
   "name": "python",
   "nbconvert_exporter": "python",
   "pygments_lexer": "ipython3",
   "version": "3.9.15"
  }
 },
 "nbformat": 4,
 "nbformat_minor": 5
}
