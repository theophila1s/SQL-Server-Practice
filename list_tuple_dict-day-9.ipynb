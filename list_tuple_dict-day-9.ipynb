{
 "cells": [
  {
   "cell_type": "code",
   "execution_count": 1,
   "id": "31b7e50f",
   "metadata": {},
   "outputs": [
    {
     "name": "stdout",
     "output_type": "stream",
     "text": [
      "Original: ['apple', 'banana', 'orange', 'cherry']\n"
     ]
    }
   ],
   "source": [
    "## List: Ordered, mutable, allows duplicates\n",
    "\n",
    "fruits = [\"apple\",\"banana\",\"orange\",\"cherry\"]\n",
    "print(\"Original:\",fruits)"
   ]
  },
  {
   "cell_type": "code",
   "execution_count": 2,
   "id": "ac7ad5bc",
   "metadata": {},
   "outputs": [
    {
     "name": "stdout",
     "output_type": "stream",
     "text": [
      "After append: ['apple', 'banana', 'orange', 'cherry', 'date']\n"
     ]
    }
   ],
   "source": [
    "fruits.append(\"date\")\n",
    "print(\"After append:\",fruits)"
   ]
  },
  {
   "cell_type": "code",
   "execution_count": 3,
   "id": "d9f2f4f8",
   "metadata": {},
   "outputs": [
    {
     "name": "stdout",
     "output_type": "stream",
     "text": [
      "After modify: ['apple', 'Mulberry', 'orange', 'cherry', 'date']\n"
     ]
    }
   ],
   "source": [
    "fruits[1] = \"Mulberry\"\n",
    "print(\"After modify:\",fruits)"
   ]
  },
  {
   "cell_type": "code",
   "execution_count": 4,
   "id": "1ddd226e",
   "metadata": {},
   "outputs": [
    {
     "name": "stdout",
     "output_type": "stream",
     "text": [
      "Interate\n",
      "- apple\n",
      "- Mulberry\n",
      "- orange\n",
      "- cherry\n",
      "- date\n"
     ]
    }
   ],
   "source": [
    "print(\"Interate\")\n",
    "for f in fruits:\n",
    "    print(\"-\",f)"
   ]
  },
  {
   "cell_type": "code",
   "execution_count": 5,
   "id": "dd64f760",
   "metadata": {},
   "outputs": [
    {
     "name": "stdout",
     "output_type": "stream",
     "text": [
      "Tuple: (3, 4)\n"
     ]
    }
   ],
   "source": [
    "## Tuple: Ordered, immutable, allows duplicates\n",
    "\n",
    "point  = (3,4)\n",
    "print(\"Tuple:\",point)"
   ]
  },
  {
   "cell_type": "code",
   "execution_count": 6,
   "id": "df0cda81",
   "metadata": {},
   "outputs": [
    {
     "name": "stdout",
     "output_type": "stream",
     "text": [
      "x = 3 y = 4\n"
     ]
    }
   ],
   "source": [
    "# Access elements\n",
    "print(\"x =\",point[0], \"y =\",point[1]) "
   ]
  },
  {
   "cell_type": "code",
   "execution_count": 7,
   "id": "e7fd4d88",
   "metadata": {},
   "outputs": [
    {
     "name": "stdout",
     "output_type": "stream",
     "text": [
      "Concat: (3, 4, 5)\n"
     ]
    }
   ],
   "source": [
    "## Concatenate or repeat\n",
    "t2 = point +(5,)\n",
    "print(\"Concat:\",t2)"
   ]
  },
  {
   "cell_type": "code",
   "execution_count": 8,
   "id": "c330bf00",
   "metadata": {},
   "outputs": [
    {
     "name": "stdout",
     "output_type": "stream",
     "text": [
      "repeat: (3, 4, 3, 4)\n"
     ]
    }
   ],
   "source": [
    "t3 = point * 2\n",
    "print(\"repeat:\",t3)"
   ]
  },
  {
   "cell_type": "code",
   "execution_count": 9,
   "id": "75638720",
   "metadata": {},
   "outputs": [
    {
     "name": "stdout",
     "output_type": "stream",
     "text": [
      "iterate tuple\n",
      "3\n",
      "4\n"
     ]
    }
   ],
   "source": [
    "#iterate\n",
    "print(\"iterate tuple\")\n",
    "for coord in point:\n",
    "    print(coord)\n",
    "    "
   ]
  },
  {
   "cell_type": "code",
   "execution_count": 10,
   "id": "8d994aaa",
   "metadata": {},
   "outputs": [
    {
     "name": "stdout",
     "output_type": "stream",
     "text": [
      "Original: {'name': 'Shreja', 'age': 25}\n"
     ]
    }
   ],
   "source": [
    "# Dictionary: Mutable mapping of unique keys → values\n",
    "\n",
    "person = {\"name\": \"Shreja\",\n",
    "          \"age\": 25}\n",
    "print(\"Original:\",person)"
   ]
  },
  {
   "cell_type": "code",
   "execution_count": 11,
   "id": "edbb2486",
   "metadata": {},
   "outputs": [
    {
     "name": "stdout",
     "output_type": "stream",
     "text": [
      "Original: {'name': 'Shreja', 'age': 30}\n"
     ]
    }
   ],
   "source": [
    "person[\"age\"] = 30\n",
    "print(\"Original:\",person)"
   ]
  },
  {
   "cell_type": "code",
   "execution_count": 12,
   "id": "0afaab5c",
   "metadata": {},
   "outputs": [
    {
     "name": "stdout",
     "output_type": "stream",
     "text": [
      "Updated: {'name': 'Shreja', 'age': 30, 'city': 'Chennai'}\n"
     ]
    }
   ],
   "source": [
    "# Add\n",
    "person[\"city\"] = \"Chennai\" \n",
    "print(\"Updated:\", person)\n"
   ]
  },
  {
   "cell_type": "code",
   "execution_count": 13,
   "id": "d2298986",
   "metadata": {},
   "outputs": [
    {
     "name": "stdout",
     "output_type": "stream",
     "text": [
      "Access: Shreja\n",
      "Keys: ['name', 'age', 'city']\n",
      "Values: ['Shreja', 30, 'Chennai']\n"
     ]
    }
   ],
   "source": [
    "print(\"Access:\", person[\"name\"])\n",
    "print(\"Keys:\", list(person.keys()))\n",
    "print(\"Values:\", list(person.values()))"
   ]
  },
  {
   "cell_type": "code",
   "execution_count": 14,
   "id": "fee4be78",
   "metadata": {},
   "outputs": [
    {
     "name": "stdout",
     "output_type": "stream",
     "text": [
      "Iterate items:\n",
      "name -> Shreja\n",
      "age -> 30\n",
      "city -> Chennai\n"
     ]
    }
   ],
   "source": [
    "print(\"Iterate items:\")\n",
    "for k, v in person.items():\n",
    "    print(f\"{k} -> {v}\")\n"
   ]
  },
  {
   "cell_type": "code",
   "execution_count": 15,
   "id": "d6f76363",
   "metadata": {},
   "outputs": [
    {
     "name": "stdout",
     "output_type": "stream",
     "text": [
      "Popped city: Chennai\n",
      "After pop: {'name': 'Shreja', 'age': 30}\n"
     ]
    }
   ],
   "source": [
    "removed = person.pop(\"city\")\n",
    "print(\"Popped city:\", removed)\n",
    "print(\"After pop:\", person)\n"
   ]
  },
  {
   "cell_type": "code",
   "execution_count": 16,
   "id": "0cc0254d",
   "metadata": {},
   "outputs": [
    {
     "name": "stdout",
     "output_type": "stream",
     "text": [
      "Initial (no duplicates): {1, 2, 3}\n"
     ]
    }
   ],
   "source": [
    "# Set: Unordered, mutable, unique items\n",
    "nums = {1, 2, 3, 2}\n",
    "print(\"Initial (no duplicates):\", nums)\n"
   ]
  },
  {
   "cell_type": "code",
   "execution_count": 17,
   "id": "d91bfca4",
   "metadata": {},
   "outputs": [
    {
     "name": "stdout",
     "output_type": "stream",
     "text": [
      "After add: {1, 2, 3, 4}\n"
     ]
    }
   ],
   "source": [
    "nums.add(4)\n",
    "print(\"After add:\", nums)\n"
   ]
  },
  {
   "cell_type": "code",
   "execution_count": 18,
   "id": "b05f36e5",
   "metadata": {},
   "outputs": [
    {
     "name": "stdout",
     "output_type": "stream",
     "text": [
      "After discard: {1, 3, 4}\n"
     ]
    }
   ],
   "source": [
    "nums.discard(2)\n",
    "print(\"After discard:\", nums)\n"
   ]
  },
  {
   "cell_type": "code",
   "execution_count": 19,
   "id": "e38bffc7",
   "metadata": {},
   "outputs": [
    {
     "name": "stdout",
     "output_type": "stream",
     "text": [
      "Membership test: 3 in nums? True\n"
     ]
    }
   ],
   "source": [
    "print(\"Membership test: 3 in nums?\", 3 in nums)"
   ]
  },
  {
   "cell_type": "code",
   "execution_count": 20,
   "id": "7e02551a",
   "metadata": {},
   "outputs": [
    {
     "name": "stdout",
     "output_type": "stream",
     "text": [
      "Iterate set:\n",
      "1\n",
      "3\n",
      "4\n"
     ]
    }
   ],
   "source": [
    "print(\"Iterate set:\")\n",
    "for n in nums:\n",
    "    print(n)\n"
   ]
  },
  {
   "cell_type": "code",
   "execution_count": 21,
   "id": "d2990aa2",
   "metadata": {},
   "outputs": [
    {
     "name": "stdout",
     "output_type": "stream",
     "text": [
      "Union: {1, 2, 3, 4}\n",
      "Intersection: {2, 3}\n",
      "Difference A-B: {1}\n"
     ]
    }
   ],
   "source": [
    "A = {1, 2, 3}\n",
    "B = {2, 3, 4}\n",
    "print(\"Union:\", A | B)\n",
    "print(\"Intersection:\", A & B)\n",
    "print(\"Difference A-B:\", A - B)\n"
   ]
  },
  {
   "cell_type": "code",
   "execution_count": 22,
   "id": "1ef3f1d0",
   "metadata": {},
   "outputs": [
    {
     "name": "stdout",
     "output_type": "stream",
     "text": [
      "All students: [('Alice', 85), ('Bob', 92), ('Cara', 78), ('Bob', 75)]\n"
     ]
    }
   ],
   "source": [
    "# 1. List of student name-tuples\n",
    "students = [(\"Alice\", 85), (\"Bob\", 92), (\"Cara\", 78), (\"Bob\", 75)]\n",
    "print(\"All students:\", students)\n"
   ]
  },
  {
   "cell_type": "code",
   "execution_count": 23,
   "id": "150c3023",
   "metadata": {},
   "outputs": [
    {
     "name": "stdout",
     "output_type": "stream",
     "text": [
      "Unique names: {'Alice', 'Cara', 'Bob'}\n"
     ]
    }
   ],
   "source": [
    "names = {name for name, _ in students}\n",
    "print(\"Unique names:\", names)\n"
   ]
  },
  {
   "cell_type": "code",
   "execution_count": 26,
   "id": "4eb510a4",
   "metadata": {},
   "outputs": [
    {
     "name": "stdout",
     "output_type": "stream",
     "text": [
      "Average scores: {'Alice': 85.0, 'Cara': 78.0, 'Bob': 83.5}\n"
     ]
    }
   ],
   "source": [
    "grades = {name: [] for name in names}\n",
    "for name, score in students:\n",
    "    grades[name].append(score)\n",
    "avg_scores = {name: sum(scores)/len(scores) for name, scores in grades.items()}\n",
    "print(\"Average scores:\", avg_scores)\n",
    "\n"
   ]
  },
  {
   "cell_type": "code",
   "execution_count": 27,
   "id": "31884f9b",
   "metadata": {},
   "outputs": [
    {
     "name": "stdout",
     "output_type": "stream",
     "text": [
      "Top students: ['Alice']\n"
     ]
    }
   ],
   "source": [
    "# 4. Identify top performers (average >= 85)\n",
    "top_students = [name for name, avg in avg_scores.items() if avg >= 85]\n",
    "print(\"Top students:\", top_students)\n"
   ]
  },
  {
   "cell_type": "code",
   "execution_count": 28,
   "id": "7e0cad8c",
   "metadata": {},
   "outputs": [
    {
     "name": "stdout",
     "output_type": "stream",
     "text": [
      "Visitors: ['Jim', 'Bob', 'Alice', 'Bob', 'Dave', 'Eve']\n"
     ]
    }
   ],
   "source": [
    "#Voter Tracking System\n",
    "\n",
    "visitors = [\"Jim\", \"Bob\", \"Alice\", \"Bob\", \"Dave\", \"Eve\"]\n",
    "print(\"Visitors:\", visitors)\n"
   ]
  },
  {
   "cell_type": "code",
   "execution_count": 29,
   "id": "cea424a6",
   "metadata": {},
   "outputs": [
    {
     "name": "stdout",
     "output_type": "stream",
     "text": [
      "Jim - CAST VOTE\n",
      "Bob - CAST VOTE\n",
      "Alice - CAST VOTE\n",
      "Bob - ALREADY VOTED\n",
      "Dave - CAST VOTE\n",
      "Eve - CAST VOTE\n",
      "Total voters: 5\n",
      "Voters list: {'Dave', 'Bob', 'Alice', 'Eve', 'Jim'}\n"
     ]
    }
   ],
   "source": [
    "# Step 2: set to record unique voters\n",
    "voted = set()\n",
    "for person in visitors:\n",
    "    if person in voted:\n",
    "        print(f\"{person} - ALREADY VOTED\")\n",
    "    else:\n",
    "        print(f\"{person} - CAST VOTE\")\n",
    "        voted.add(person)\n",
    "\n",
    "print(\"Total voters:\", len(voted))\n",
    "print(\"Voters list:\", voted)\n"
   ]
  },
  {
   "cell_type": "code",
   "execution_count": 31,
   "id": "630399c5",
   "metadata": {},
   "outputs": [],
   "source": [
    "# Find longest string, filter numbers, detect duplicates\n",
    "def find_longest_string(strings):\n",
    "    longest = \"\"\n",
    "    for s in strings:\n",
    "        if len(s) > len(longest):\n",
    "            longest = s\n",
    "    return longest\n",
    "\n",
    "\n",
    "def filter_greater_than_five(nums):\n",
    "    return [n for n in nums if n > 5]\n",
    "\n",
    "\n",
    "def find_duplicates(values):\n",
    "    seen, duplicates = set(), []\n",
    "    for v in values:\n",
    "        if v in seen:\n",
    "            duplicates.append(v)\n",
    "        else:\n",
    "            seen.add(v)\n",
    "    return duplicates\n",
    "\n",
    "\n"
   ]
  },
  {
   "cell_type": "code",
   "execution_count": 32,
   "id": "0643c508",
   "metadata": {},
   "outputs": [
    {
     "name": "stdout",
     "output_type": "stream",
     "text": [
      "Longest word: world!\n",
      "Filtered (>5): [6, 8, 8]\n",
      "Duplicates in mix: [2, 3]\n"
     ]
    }
   ],
   "source": [
    "words = [\"hi\", \"hello\", \"world!\"]\n",
    "numbers = [1, 6, 8, 3, 4, 8]\n",
    "mix = [2, 3, 2, 5, 3]\n",
    "\n",
    "print(\"Longest word:\", find_longest_string(words))\n",
    "print(\"Filtered (>5):\", filter_greater_than_five(numbers))\n",
    "print(\"Duplicates in mix:\", find_duplicates(mix))\n"
   ]
  },
  {
   "cell_type": "code",
   "execution_count": 33,
   "id": "15387752",
   "metadata": {},
   "outputs": [
    {
     "name": "stdout",
     "output_type": "stream",
     "text": [
      "Productivity: 50.0\n"
     ]
    }
   ],
   "source": [
    "#Company Class with Property Validation\n",
    "\n",
    "class Company:\n",
    "    name = \"XYZ Bank\"\n",
    "    turnover = 5000\n",
    "    revenue = 1000\n",
    "    num_employees = 100\n",
    "\n",
    "    @classmethod\n",
    "    def productivity(cls):\n",
    "        return cls.turnover / cls.num_employees\n",
    "\n",
    "c = Company()\n",
    "print(\"Productivity:\", Company.productivity())\n"
   ]
  },
  {
   "cell_type": "code",
   "execution_count": 34,
   "id": "ae2c702b",
   "metadata": {},
   "outputs": [
    {
     "name": "stdout",
     "output_type": "stream",
     "text": [
      "Leaf is accelerating\n",
      "Leaf is charging\n"
     ]
    }
   ],
   "source": [
    "#Vehicle / Car / ElectricCar Class Hierarchy\n",
    "\n",
    "class Car:\n",
    "    def __init__(self, color, model, engine_type=\"Petrol\"):\n",
    "        self.color = color\n",
    "        self.model = model\n",
    "        self.engine_type = engine_type\n",
    "\n",
    "    def accelerate(self):\n",
    "        print(f\"{self.model} is accelerating\")\n",
    "\n",
    "class ElectricCar(Car):\n",
    "    def __init__(self, color, model, battery_kwh):\n",
    "        super().__init__(color, model, engine_type=\"Electric\")\n",
    "        self.battery_kwh = battery_kwh\n",
    "\n",
    "    def charge(self):\n",
    "        print(f\"{self.model} is charging\")\n",
    "\n",
    "ecar = ElectricCar(\"Blue\", \"Leaf\", 40)\n",
    "ecar.accelerate()\n",
    "ecar.charge()\n"
   ]
  },
  {
   "cell_type": "code",
   "execution_count": null,
   "id": "7dfdbb18",
   "metadata": {},
   "outputs": [],
   "source": []
  }
 ],
 "metadata": {
  "kernelspec": {
   "display_name": "Python (tf-env)",
   "language": "python",
   "name": "tf-env"
  },
  "language_info": {
   "codemirror_mode": {
    "name": "ipython",
    "version": 3
   },
   "file_extension": ".py",
   "mimetype": "text/x-python",
   "name": "python",
   "nbconvert_exporter": "python",
   "pygments_lexer": "ipython3",
   "version": "3.9.15"
  }
 },
 "nbformat": 4,
 "nbformat_minor": 5
}
