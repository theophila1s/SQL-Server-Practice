{
 "cells": [
  {
   "cell_type": "code",
   "execution_count": 1,
   "id": "9c79a7be",
   "metadata": {},
   "outputs": [
    {
     "name": "stdout",
     "output_type": "stream",
     "text": [
      "['cricket', '1', 'basketball', 'carrom', 'hockey']\n"
     ]
    }
   ],
   "source": [
    "#list\n",
    "\n",
    "sports = ['cricket','1','basketball','carrom','hockey']\n",
    "print(sports)"
   ]
  },
  {
   "cell_type": "code",
   "execution_count": 2,
   "id": "8e9fbe60",
   "metadata": {},
   "outputs": [
    {
     "name": "stdout",
     "output_type": "stream",
     "text": [
      "['cricket', 'tennis', 'basketball', 'carrom', 'hockey']\n"
     ]
    }
   ],
   "source": [
    "sports[1] = 'tennis'\n",
    "print(sports)"
   ]
  },
  {
   "cell_type": "code",
   "execution_count": 3,
   "id": "6587bb16",
   "metadata": {},
   "outputs": [
    {
     "name": "stdout",
     "output_type": "stream",
     "text": [
      "['cricket', 'tennis', 'basketball', 4, 'hockey']\n"
     ]
    }
   ],
   "source": [
    "sports[3] = 4\n",
    "print(sports)"
   ]
  },
  {
   "cell_type": "code",
   "execution_count": 4,
   "id": "3ce8193a",
   "metadata": {},
   "outputs": [
    {
     "name": "stdout",
     "output_type": "stream",
     "text": [
      "['cricket', 'tennis', 'basketball', 4, 'hockey', 'relay']\n"
     ]
    }
   ],
   "source": [
    "sports.append('relay')\n",
    "print(sports)"
   ]
  },
  {
   "cell_type": "code",
   "execution_count": 5,
   "id": "4cb98f86",
   "metadata": {},
   "outputs": [
    {
     "name": "stdout",
     "output_type": "stream",
     "text": [
      "['cricket', 'tennis', 'basketball', 'carrom', 'hockey', 'relay']\n"
     ]
    }
   ],
   "source": [
    "for i in range(len(sports)):\n",
    "    if sports[i] == 4:\n",
    "        sports[i] = \"carrom\"\n",
    "print(sports)"
   ]
  },
  {
   "cell_type": "code",
   "execution_count": 7,
   "id": "b292d2f7",
   "metadata": {},
   "outputs": [
    {
     "name": "stdout",
     "output_type": "stream",
     "text": [
      "['cricket', 'tennis', 'carrom', 'hockey', 'relay']\n"
     ]
    }
   ],
   "source": [
    "sports.remove('basketball')\n",
    "print(sports)"
   ]
  },
  {
   "cell_type": "code",
   "execution_count": 8,
   "id": "15f8fc74",
   "metadata": {},
   "outputs": [
    {
     "name": "stdout",
     "output_type": "stream",
     "text": [
      "relay\n"
     ]
    }
   ],
   "source": [
    "x = sports.pop()\n",
    "print(x)"
   ]
  },
  {
   "cell_type": "code",
   "execution_count": 9,
   "id": "c1f65c08",
   "metadata": {},
   "outputs": [
    {
     "name": "stdout",
     "output_type": "stream",
     "text": [
      "hockey\n"
     ]
    }
   ],
   "source": [
    "x = sports.pop(-1)\n",
    "print(x)"
   ]
  },
  {
   "cell_type": "code",
   "execution_count": 11,
   "id": "99df0806",
   "metadata": {},
   "outputs": [
    {
     "name": "stdout",
     "output_type": "stream",
     "text": [
      "orange\n"
     ]
    }
   ],
   "source": [
    "my_tuple = ['apple','orange','mango','cherry']\n",
    "x = my_tuple[1]\n",
    "print(x)"
   ]
  },
  {
   "cell_type": "code",
   "execution_count": 12,
   "id": "c636b2b0",
   "metadata": {},
   "outputs": [
    {
     "name": "stdout",
     "output_type": "stream",
     "text": [
      "['apple', 'orange', 'mango', 'cherry']\n"
     ]
    }
   ],
   "source": [
    "my_list = list(my_tuple)\n",
    "print(my_list)"
   ]
  },
  {
   "cell_type": "code",
   "execution_count": 13,
   "id": "b89fffe9",
   "metadata": {},
   "outputs": [
    {
     "name": "stdout",
     "output_type": "stream",
     "text": [
      "['apple', 'orange', 'mango', 'cherry']\n"
     ]
    }
   ],
   "source": [
    "my_tuple1 = ['apple','orange','mango','cherry']\n",
    "my_list1 = []\n",
    "for i in my_tuple1:\n",
    "    my_list1.append(i)\n",
    "print(my_list1)"
   ]
  },
  {
   "cell_type": "code",
   "execution_count": 14,
   "id": "aae8ec18",
   "metadata": {},
   "outputs": [
    {
     "name": "stdout",
     "output_type": "stream",
     "text": [
      "Theophila\n"
     ]
    }
   ],
   "source": [
    "#dictionary\n",
    "\n",
    "students = {\"name\": \"Theophila\",\n",
    "            \"age\": 21,\n",
    "            \"branch\":\"cse\"}\n",
    "print(students[\"name\"])"
   ]
  },
  {
   "cell_type": "code",
   "execution_count": 15,
   "id": "80265c4f",
   "metadata": {},
   "outputs": [
    {
     "name": "stdout",
     "output_type": "stream",
     "text": [
      "{'name': 'geetha', 'age': 21, 'branch': 'cse'}\n"
     ]
    }
   ],
   "source": [
    "students[\"name\"] = \"geetha\"\n",
    "print(students)"
   ]
  },
  {
   "cell_type": "code",
   "execution_count": 16,
   "id": "7ca616a5",
   "metadata": {},
   "outputs": [
    {
     "name": "stdout",
     "output_type": "stream",
     "text": [
      "[]\n"
     ]
    }
   ],
   "source": [
    "x = []\n",
    "for students, details in students.items():\n",
    "    if details == \"xyz\":\n",
    "        x.append(students)\n",
    "print(x)"
   ]
  },
  {
   "cell_type": "code",
   "execution_count": 17,
   "id": "f6ea5d07",
   "metadata": {},
   "outputs": [
    {
     "name": "stdout",
     "output_type": "stream",
     "text": [
      "{'banana', 'chery', 'apple'}\n"
     ]
    }
   ],
   "source": [
    "#set\n",
    "\n",
    "set1 = {\"apple\",\"banana\",\"chery\",\"apple\"}\n",
    "set1.add(\"apple\")\n",
    "print(set1)"
   ]
  },
  {
   "cell_type": "code",
   "execution_count": null,
   "id": "4dfe1828",
   "metadata": {},
   "outputs": [],
   "source": []
  }
 ],
 "metadata": {
  "kernelspec": {
   "display_name": "Python (tf-env)",
   "language": "python",
   "name": "tf-env"
  },
  "language_info": {
   "codemirror_mode": {
    "name": "ipython",
    "version": 3
   },
   "file_extension": ".py",
   "mimetype": "text/x-python",
   "name": "python",
   "nbconvert_exporter": "python",
   "pygments_lexer": "ipython3",
   "version": "3.9.15"
  }
 },
 "nbformat": 4,
 "nbformat_minor": 5
}
